{
 "cells": [
  {
   "cell_type": "markdown",
   "metadata": {},
   "source": [
    "# 数値解析レポート"
   ]
  },
  {
   "cell_type": "markdown",
   "metadata": {},
   "source": [
    "## べき乗法"
   ]
  },
  {
   "cell_type": "markdown",
   "metadata": {},
   "source": [
    "インポート"
   ]
  },
  {
   "cell_type": "code",
   "execution_count": 1,
   "metadata": {},
   "outputs": [],
   "source": [
    "import numpy as np"
   ]
  },
  {
   "cell_type": "markdown",
   "metadata": {},
   "source": [
    "#### 実装"
   ]
  },
  {
   "cell_type": "code",
   "execution_count": 2,
   "metadata": {},
   "outputs": [],
   "source": [
    "def power_method(A, inital_position, rel_eps = 0.0001, max_step_num=1000):\n",
    "    \"\"\"\n",
    "    行列の固有値問題: べき乗法\n",
    "    Parameters\n",
    "    ----------\n",
    "    A : numpy array\n",
    "        Target matrix\n",
    "    inital_position : numpy array\n",
    "    rel_eps : float\n",
    "    max_step_num : int\n",
    "\n",
    "    Returns\n",
    "    -------\n",
    "    u : numpy array\n",
    "        first left eigenvector of A\n",
    "    eigen_value : float\n",
    "        first eigenvalue of A\n",
    "    \"\"\"\n",
    "    \n",
    "    rel_eps = 0.0001 # 固有値の収束条件\n",
    "    #クリロフ列生成\n",
    "\n",
    "    # 初期値代入\n",
    "    rel_delta_u=100.0\n",
    "    pre_eigen_value = 0\n",
    "    x = inital_position/np.linalg.norm(inital_position) # 正規化しておく\n",
    "    \n",
    "    for i in range(max_step_num):\n",
    "        v = np.dot(A,x)\n",
    "        eigen_value = np.dot(x, v)\n",
    "        x = v/np.linalg.norm(v) # 固有ベクトルの正規化\n",
    "        \n",
    "        if (rel_delta_u < rel_eps):\n",
    "            print(str(i+1)+\"回で収束\")\n",
    "            print(\"eigen_value=\",eigen_value)\n",
    "            v = np.dot(A,x)\n",
    "            x = v/np.linalg.norm(v) # 固有ベクトルの正規化\n",
    "            print(\"eigen_vector=\",x)\n",
    "            return eigen_value, x\n",
    "        \n",
    "        if pre_eigen_value is not None:\n",
    "            rel_delta_u = abs(eigen_value - pre_eigen_value)/abs(pre_eigen_value)\n",
    "        \n",
    "        pre_eigen_value = eigen_value\n",
    "    \n",
    "    print(str(i+1)+\"回で収束しなかった\")\n",
    "    print(\"eigen_value=\",eigen_value)\n",
    "    v = np.dot(A,x)\n",
    "    x = v/np.linalg.norm(v) # 固有ベクトルの正規化\n",
    "    print(\"eigen_vector=\",x)\n",
    "    return eigen_value, x"
   ]
  },
  {
   "cell_type": "markdown",
   "metadata": {},
   "source": [
    "### 問題設定"
   ]
  },
  {
   "cell_type": "code",
   "execution_count": 3,
   "metadata": {},
   "outputs": [],
   "source": [
    "x0 = np.array([1.0, 1.0, 1.0]); \n",
    "\n",
    "A1=np.array([[1.0, 0.0 , 0.0],[0.0, 5.0 , -1.0], [0.0, 3.0 , 0.0]])\n",
    "A2=np.array([[1.0, 0.0 , 0.0],[0.0, 0.0 , -1.0], [0.0, 3.0 , 0.0]])"
   ]
  },
  {
   "cell_type": "markdown",
   "metadata": {},
   "source": [
    "### 実行"
   ]
  },
  {
   "cell_type": "code",
   "execution_count": 4,
   "metadata": {
    "scrolled": true
   },
   "outputs": [
    {
     "name": "stdout",
     "output_type": "stream",
     "text": [
      "8回で収束\n",
      "eigen_value= 4.302773024506958\n",
      "eigen_vector= [1.77144259e-06 8.20300149e-01 5.71933269e-01]\n"
     ]
    },
    {
     "name": "stderr",
     "output_type": "stream",
     "text": [
      "/Users/m-narumiya/anaconda3/lib/python3.6/site-packages/ipykernel_launcher.py:42: RuntimeWarning: divide by zero encountered in double_scalars\n"
     ]
    }
   ],
   "source": [
    "lamda,x = power_method(A1, x0)"
   ]
  },
  {
   "cell_type": "markdown",
   "metadata": {},
   "source": [
    "### ライブラリで確認"
   ]
  },
  {
   "cell_type": "code",
   "execution_count": 5,
   "metadata": {},
   "outputs": [],
   "source": [
    "def getMaxEig(A):\n",
    "    \"\"\"絶対値最大の固有値とそれに対応する固有ベクトルを取り出す。確認用の関数\"\"\"\n",
    "    eig_val, eig_vec =np.linalg.eig(A) # 固有値・固有ベクトルをそれぞれeig_val, eig_vecに格納する\n",
    "\n",
    "    max_eig_val_index = np.argmax(abs(eig_val))\n",
    "    max_eig_val = eig_val[max_eig_val_index]\n",
    "    max_eig_vec = eig_vec[max_eig_val_index]\n",
    "\n",
    "    #計算結果の出力\n",
    "    print (\"eig_val=\", max_eig_val) \n",
    "    print(\"eig_vec=\",max_eig_vec/np.linalg.norm(max_eig_vec))"
   ]
  },
  {
   "cell_type": "code",
   "execution_count": 6,
   "metadata": {
    "scrolled": true
   },
   "outputs": [
    {
     "name": "stdout",
     "output_type": "stream",
     "text": [
      "eig_val= 4.302775637731995\n",
      "eig_vec= [-0.266022   -0.96396696  0.        ]\n"
     ]
    }
   ],
   "source": [
    "getMaxEig(A1)"
   ]
  },
  {
   "cell_type": "code",
   "execution_count": 7,
   "metadata": {},
   "outputs": [
    {
     "data": {
      "text/plain": [
       "4.302775637731995"
      ]
     },
     "execution_count": 7,
     "metadata": {},
     "output_type": "execute_result"
    }
   ],
   "source": [
    "(5+np.sqrt(13))/2"
   ]
  },
  {
   "cell_type": "code",
   "execution_count": 346,
   "metadata": {},
   "outputs": [],
   "source": [
    "hoge, fuga =np.linalg.eig(A1)"
   ]
  },
  {
   "cell_type": "code",
   "execution_count": 347,
   "metadata": {
    "scrolled": true
   },
   "outputs": [
    {
     "name": "stdout",
     "output_type": "stream",
     "text": [
      "[0.69722436 4.30277564 1.        ]\n",
      "[[ 0.          0.          1.        ]\n",
      " [-0.22637487 -0.82030016  0.        ]\n",
      " [-0.97404026 -0.57193326  0.        ]]\n"
     ]
    }
   ],
   "source": [
    "print(hoge)\n",
    "print(fuga)"
   ]
  },
  {
   "cell_type": "code",
   "execution_count": 348,
   "metadata": {},
   "outputs": [
    {
     "data": {
      "text/plain": [
       "0.058102030189000446"
      ]
     },
     "execution_count": 348,
     "metadata": {},
     "output_type": "execute_result"
    }
   ],
   "source": [
    "1/(5+np.sqrt(13))/2"
   ]
  },
  {
   "cell_type": "markdown",
   "metadata": {},
   "source": [
    "### 次"
   ]
  },
  {
   "cell_type": "code",
   "execution_count": 8,
   "metadata": {},
   "outputs": [
    {
     "name": "stdout",
     "output_type": "stream",
     "text": [
      "1000回で収束しなかった\n",
      "eigen_value= -0.5999999999999999\n",
      "eigen_vector= [ 8.69706348e-240 -3.16227766e-001  9.48683298e-001]\n",
      "eig_val= 1.7320508075688772j\n",
      "eig_vec= [0.+0.j 0.-0.j 1.+0.j]\n"
     ]
    },
    {
     "name": "stderr",
     "output_type": "stream",
     "text": [
      "/Users/m-narumiya/anaconda3/lib/python3.6/site-packages/ipykernel_launcher.py:42: RuntimeWarning: divide by zero encountered in double_scalars\n"
     ]
    }
   ],
   "source": [
    "lamda,x = power_method(A2, x0)\n",
    "getMaxEig(A2)"
   ]
  },
  {
   "cell_type": "code",
   "execution_count": 9,
   "metadata": {},
   "outputs": [
    {
     "name": "stderr",
     "output_type": "stream",
     "text": [
      "/Users/m-narumiya/anaconda3/lib/python3.6/site-packages/ipykernel_launcher.py:42: RuntimeWarning: divide by zero encountered in double_scalars\n"
     ]
    },
    {
     "name": "stdout",
     "output_type": "stream",
     "text": [
      "100000回で収束しなかった\n",
      "eigen_value= -0.5999999999999999\n",
      "eigen_vector= [ 0.         -0.31622777  0.9486833 ]\n"
     ]
    }
   ],
   "source": [
    "lamda,x = power_method(A2, x0,rel_eps = 0.0001, max_step_num=10**5)"
   ]
  },
  {
   "cell_type": "markdown",
   "metadata": {},
   "source": [
    "$A_2$は収束しなかった  \n",
    "理由としては条件数$cond(A)=||A|| \\cdot ||A^{-1}||$が大きい可能性がある"
   ]
  },
  {
   "cell_type": "markdown",
   "metadata": {},
   "source": [
    "### 条件数の計算"
   ]
  },
  {
   "cell_type": "code",
   "execution_count": 10,
   "metadata": {},
   "outputs": [],
   "source": [
    "# import\n",
    "from numpy import linalg as LA"
   ]
  },
  {
   "cell_type": "code",
   "execution_count": 11,
   "metadata": {},
   "outputs": [],
   "source": [
    "def getCond(A):\n",
    "    A_inv = np.linalg.inv(A)\n",
    "    cond = np.linalg.norm(A,2) * np.linalg.norm(A_inv,2)\n",
    "    return cond"
   ]
  },
  {
   "cell_type": "code",
   "execution_count": 12,
   "metadata": {},
   "outputs": [
    {
     "name": "stdout",
     "output_type": "stream",
     "text": [
      "cond= 3.0\n"
     ]
    }
   ],
   "source": [
    "cond2 = getCond(A2)\n",
    "print(\"cond=\",cond2)"
   ]
  },
  {
   "cell_type": "code",
   "execution_count": 13,
   "metadata": {},
   "outputs": [
    {
     "name": "stdout",
     "output_type": "stream",
     "text": [
      "cond= 11.580313216522223\n"
     ]
    }
   ],
   "source": [
    "cond1 = getCond(A1)\n",
    "print(\"cond=\",cond1)"
   ]
  },
  {
   "cell_type": "markdown",
   "metadata": {},
   "source": [
    "関係なかった  \n",
    "条件数は制度に関してのみ影響するだけだった  \n",
    "固有値が近接してるから収束が遅い???  \n",
    "→ $\\lambda_1 = - \\lambda_2$と振動していたので収束しなかった"
   ]
  },
  {
   "cell_type": "code",
   "execution_count": 14,
   "metadata": {},
   "outputs": [
    {
     "name": "stdout",
     "output_type": "stream",
     "text": [
      "[0.+1.73205081j 0.-1.73205081j 1.+0.        j]\n"
     ]
    }
   ],
   "source": [
    "eig_val2, eig_vec2 =np.linalg.eig(A2)\n",
    "print(eig_val2)"
   ]
  },
  {
   "cell_type": "markdown",
   "metadata": {},
   "source": [
    "近接してる  \n",
    "固有値が複素数であることも理由の一つ???"
   ]
  },
  {
   "cell_type": "code",
   "execution_count": 15,
   "metadata": {},
   "outputs": [
    {
     "name": "stdout",
     "output_type": "stream",
     "text": [
      "[0.69722436 4.30277564 1.        ]\n"
     ]
    }
   ],
   "source": [
    "# ちなみにA1は\n",
    "eig_val1, eig_vec1 =np.linalg.eig(A1)\n",
    "print(eig_val1)"
   ]
  },
  {
   "cell_type": "markdown",
   "metadata": {},
   "source": [
    "固有値が互いに離れているので収束が早い"
   ]
  },
  {
   "cell_type": "code",
   "execution_count": 16,
   "metadata": {},
   "outputs": [
    {
     "name": "stdout",
     "output_type": "stream",
     "text": [
      "1000回で収束しなかった\n",
      "eigen_value= (-1.4861215932167724+0.8580127018922188j)\n",
      "eigen_vector= [-1.27340872e-241-3.17249433e-242j -2.50000000e-001+4.33012702e-001j\n",
      "  7.50000000e-001+4.33012702e-001j]\n"
     ]
    },
    {
     "name": "stderr",
     "output_type": "stream",
     "text": [
      "/Users/m-narumiya/anaconda3/lib/python3.6/site-packages/ipykernel_launcher.py:42: RuntimeWarning: divide by zero encountered in double_scalars\n"
     ]
    }
   ],
   "source": [
    "# x1 = np.array([-1.0j, -1.0j, -1.0j]); \n",
    "I = np.identity(np.shape(A2)[0])\n",
    "mu = 1.7j \n",
    "lamda,x = power_method(A2 + mu*I , x0)"
   ]
  },
  {
   "cell_type": "code",
   "execution_count": 17,
   "metadata": {},
   "outputs": [
    {
     "name": "stdout",
     "output_type": "stream",
     "text": [
      "[ 0.00000000e+00+3.43205081j -9.22709807e-17-0.03205081j\n",
      "  1.00000000e+00+1.7       j]\n"
     ]
    }
   ],
   "source": [
    "hoge, fuga=np.linalg.eig(A2 + mu*I)\n",
    "print(hoge)"
   ]
  },
  {
   "cell_type": "code",
   "execution_count": 18,
   "metadata": {},
   "outputs": [
    {
     "data": {
      "text/plain": [
       "0.574673395447663"
      ]
     },
     "execution_count": 18,
     "metadata": {},
     "output_type": "execute_result"
    }
   ],
   "source": [
    "LA.norm(1+1.7j)/LA.norm(3.43205081j)"
   ]
  },
  {
   "cell_type": "code",
   "execution_count": 19,
   "metadata": {},
   "outputs": [
    {
     "data": {
      "text/plain": [
       "0.2324081206334988"
      ]
     },
     "execution_count": 19,
     "metadata": {},
     "output_type": "execute_result"
    }
   ],
   "source": [
    "LA.norm(1)/LA.norm(4.30277564)"
   ]
  },
  {
   "cell_type": "markdown",
   "metadata": {},
   "source": [
    "## CG法(共役勾配法)"
   ]
  },
  {
   "cell_type": "code",
   "execution_count": 24,
   "metadata": {},
   "outputs": [],
   "source": [
    "def cgMethod(A, b, initial_point=None, max_step=100, eps=10**(-8)):\n",
    "    \"\"\"共役勾配法で連立線形方程式をとく\n",
    "    ---Input---\n",
    "    A : np.array.n*nの係数行列.\n",
    "    b : np.array. n*1の縦ベクトル.\n",
    "    initial_point : np.array. 初期値.\n",
    "    max_step : int.最大のステップ回数.\n",
    "    eps : float. 収束判定に使う.\n",
    "    \n",
    "    ---return---\n",
    "    x : np.array. 答えとなるベクトル.\n",
    "    \"\"\"\n",
    "    \n",
    "    if (initial_point is None):\n",
    "        initial_point = np.zeros([np.shape(b)[0], 1])\n",
    "    \n",
    "    x = initial_point\n",
    "    p = r = b - np.dot(A, x)\n",
    "    \n",
    "    \n",
    "    for i in range(max_step):\n",
    "        times_A_and_p = np.dot(A, p)\n",
    "        work = np.dot(p.T, times_A_and_p)\n",
    "        alpha = np.dot(p.T, r)/work\n",
    "        x += alpha*p\n",
    "        r -=  alpha*times_A_and_p\n",
    "        \n",
    "        # 収束判定 : 残渣がepsを下回れば停止\n",
    "        if (np.linalg.norm(r) < eps):\n",
    "            print(i+1,\"回で収束\")\n",
    "            return x\n",
    "        \n",
    "        # 収束しなかったら更新\n",
    "        else:\n",
    "            beta = - np.dot(r.T, times_A_and_p)/work\n",
    "            p = r + beta*p\n",
    "\n",
    "    print(max_step,\"回で失敗\")\n",
    "    return x,"
   ]
  },
  {
   "cell_type": "markdown",
   "metadata": {},
   "source": [
    "### 問題設定"
   ]
  },
  {
   "cell_type": "code",
   "execution_count": 21,
   "metadata": {},
   "outputs": [],
   "source": [
    "def setAmat(size_N, c):\n",
    "    \"\"\"\n",
    "    size_N*size_Nで対角成分がc、その前後のみ-1の行列Aを返す。\n",
    "    \"\"\"\n",
    "    tmp = np.triu(-np.ones([size_N, size_N]), 1) - np.triu(-np.ones([size_N, size_N]), 2)\n",
    "    \n",
    "    return c*np.identity(size_N) + tmp + tmp.T"
   ]
  },
  {
   "cell_type": "markdown",
   "metadata": {},
   "source": [
    "### 値を与えて解いてみる"
   ]
  },
  {
   "cell_type": "code",
   "execution_count": 22,
   "metadata": {},
   "outputs": [],
   "source": [
    "def solveQuestionCG(N):\n",
    "    \"\"\"連立一次方程式をCG法で問題をとく。\n",
    "    ---return---\n",
    "    b : 方程式に使ったベクトル\n",
    "    x1 : c=2のときの解\n",
    "    x2 : c=20のときの解\n",
    "    \"\"\"\n",
    "    A1 = setAmat(N, 2)\n",
    "    A2 = setAmat(N, 20)\n",
    "    b = np.random.randint(1, 9, (N, 1)) \n",
    "    \n",
    "    print(\"c=2のとき\")\n",
    "    x1 = cgMethod(A1, b)\n",
    "    print(\"ライブラリの解との差のlog10=\",np.log10(np.linalg.norm(x1-np.linalg.solve(A1, b))))\n",
    "    \n",
    "    print(\"c=20のとき\")\n",
    "    x2 = cgMethod(A2, b)\n",
    "    print(\"ライブラリの解との差のlog10=\",np.log10(np.linalg.norm(x2-np.linalg.solve(A2, b))))\n",
    "    \n",
    "    return b, x1, x2"
   ]
  },
  {
   "cell_type": "code",
   "execution_count": 25,
   "metadata": {},
   "outputs": [
    {
     "name": "stdout",
     "output_type": "stream",
     "text": [
      "c=2のとき\n",
      "5 回で収束\n",
      "ライブラリの解との差のlog10= -13.972318537151436\n",
      "c=20のとき\n",
      "5 回で収束\n",
      "ライブラリの解との差のlog10= -16.105104768022994\n"
     ]
    }
   ],
   "source": [
    "b1, x1, x2 = solveQuestionCG(4)"
   ]
  },
  {
   "cell_type": "code",
   "execution_count": 26,
   "metadata": {
    "scrolled": false
   },
   "outputs": [
    {
     "name": "stdout",
     "output_type": "stream",
     "text": [
      "c=2のとき\n",
      "33 回で収束\n",
      "ライブラリの解との差のlog10= -11.079000077233344\n",
      "c=20のとき\n",
      "8 回で収束\n",
      "ライブラリの解との差のlog10= -10.330491737172647\n"
     ]
    }
   ],
   "source": [
    "b2, x1, x2 = solveQuestionCG(2**5)"
   ]
  },
  {
   "cell_type": "markdown",
   "metadata": {},
   "source": [
    "## 共役勾配法以外の連立一次方程式の反復解法"
   ]
  },
  {
   "cell_type": "markdown",
   "metadata": {},
   "source": [
    "### ヤコビ法"
   ]
  },
  {
   "cell_type": "code",
   "execution_count": 326,
   "metadata": {},
   "outputs": [],
   "source": [
    "def jacobi(A, b, initial_point=None, eps=10**(-8), max_step=100):\n",
    "    \"\"\"線形連立方程式をヤコビ法で解く\n",
    "    ---return---\n",
    "    x : ヤコビ法で求められた数値解\n",
    "    \"\"\"\n",
    "\n",
    "    if (initial_point is None):\n",
    "        initial_point = np.ones([np.shape(b)[0], 1])\n",
    "        \n",
    "    x_old = initial_point\n",
    "    error = 1e12\n",
    "\n",
    "    dig_array = np.diag(A)\n",
    "    D = np.diagflat(dig_array)\n",
    "    D_inv = np.diagflat(1/dig_array)\n",
    "    dig_ndarray = np.array([dig_array])\n",
    "    R = A - D\n",
    "    \n",
    "    # 反復法でのMを計算する\n",
    "    M = np.dot(D_inv, R)\n",
    "    norm_M = np.linalg.norm(M, np.inf)\n",
    "    \n",
    "    for i in range(max_step):\n",
    "        x = (b-np.dot(R, x_old))/dig_ndarray.T\n",
    "        error = np.linalg.norm(x-x_old)/np.linalg.norm(x)\n",
    "        \n",
    "        # 収束判定\n",
    "        if (error < eps):\n",
    "            print(i+1,\"回で収束\")\n",
    "            return x, norm_M\n",
    "        \n",
    "        else:\n",
    "            x_old = x\n",
    "    \n",
    "   #  print(\"x=\",x)\n",
    "    print(max_step,\"回で失敗\")\n",
    "    return x, norm_M"
   ]
  },
  {
   "cell_type": "markdown",
   "metadata": {},
   "source": [
    "### テスト関数"
   ]
  },
  {
   "cell_type": "code",
   "execution_count": 28,
   "metadata": {},
   "outputs": [],
   "source": [
    "def testSolve(method_func, N, c, b, eps_num=10**(-8), max_step_num=10**4):\n",
    "    A = setAmat(N, c)\n",
    "    x, m_norm = method_func(A, b, eps=eps_num, max_step=max_step_num)\n",
    "    ans = np.linalg.solve(A, b)\n",
    "    print(\"ライブラリの解との差の対数: \",np.log10(np.linalg.norm(x-ans)))\n",
    "    print(\"Mのノルムの値: \",m_norm)\n",
    "    if (m_norm < 1):\n",
    "        print(\"推定ループ回数: \", np.log(eps_num)/np.log(m_norm))\n",
    "    elif (m_norm == 1):\n",
    "        print(\"収束するが回数を要する\")\n",
    "    else:\n",
    "        print(\"収束しない\")"
   ]
  },
  {
   "cell_type": "markdown",
   "metadata": {},
   "source": [
    "#### 試してみる"
   ]
  },
  {
   "cell_type": "code",
   "execution_count": 327,
   "metadata": {},
   "outputs": [
    {
     "name": "stdout",
     "output_type": "stream",
     "text": [
      "80 回で収束\n",
      "ライブラリの解との差の対数:  -5.803787198423189\n",
      "Mのノルムの値:  1.0\n",
      "収束するが回数を要する\n",
      "9 回で収束\n",
      "ライブラリの解との差の対数:  -9.766480544587312\n",
      "Mのノルムの値:  0.1\n",
      "推定ループ回数:  8.000000000000002\n"
     ]
    }
   ],
   "source": [
    "testSolve(jacobi, 4, 2, b1)\n",
    "testSolve(jacobi, 4, 20, b1)"
   ]
  },
  {
   "cell_type": "code",
   "execution_count": 328,
   "metadata": {},
   "outputs": [
    {
     "name": "stdout",
     "output_type": "stream",
     "text": [
      "2870 回で収束\n",
      "ライブラリの解との差の対数:  -2.2804028701936065\n",
      "Mのノルムの値:  1.0\n",
      "収束するが回数を要する\n",
      "10 回で収束\n",
      "ライブラリの解との差の対数:  -9.409550504780483\n",
      "Mのノルムの値:  0.1\n",
      "推定ループ回数:  8.000000000000002\n"
     ]
    }
   ],
   "source": [
    "testSolve(jacobi, 2**5, 2, b2)\n",
    "testSolve(jacobi,2**5, 20, b2)"
   ]
  },
  {
   "cell_type": "markdown",
   "metadata": {},
   "source": [
    "### ガウス・ザイデル法"
   ]
  },
  {
   "cell_type": "code",
   "execution_count": 329,
   "metadata": {},
   "outputs": [],
   "source": [
    "def gaussSeidel(A, b, initial_point=None, eps=10**(-8), max_step=10**3):\n",
    "    \"\"\"線形連立方程式をガウス・ザイデル法で解く\n",
    "    ---return---\n",
    "    x : ヤコビ法で求められた数値解\n",
    "    \"\"\"\n",
    "    \n",
    "    if (initial_point is None):\n",
    "        initial_point = np.ones([np.shape(b)[0], 1])\n",
    "        \n",
    "    x_old = initial_point\n",
    "    error = 1e12\n",
    "    \n",
    "    L = np.tril(A)\n",
    "    U = A - L\n",
    "    LInv = np.linalg.inv(L)\n",
    "    \n",
    "    # 反復法でのMを計算する\n",
    "    M = np.dot(LInv, U)\n",
    "    norm_M = np.linalg.norm(M,np.inf)\n",
    "    \n",
    "    for i in range(max_step):\n",
    "        x = np.dot(LInv, b-np.dot(U, x_old))\n",
    "        error = np.linalg.norm(x-x_old)/np.linalg.norm(x)\n",
    "        \n",
    "        if (error  < eps):\n",
    "            print(i+1,\"回で収束\")\n",
    "            return x, norm_M\n",
    "        \n",
    "        else:\n",
    "            x_old = x\n",
    "    \n",
    "    print(max_step,\"回で収束しない\")\n",
    "    \n",
    "    return x, norm_M"
   ]
  },
  {
   "cell_type": "markdown",
   "metadata": {},
   "source": [
    "#### テスト"
   ]
  },
  {
   "cell_type": "code",
   "execution_count": 330,
   "metadata": {
    "scrolled": false
   },
   "outputs": [
    {
     "name": "stdout",
     "output_type": "stream",
     "text": [
      "43 回で収束\n"
     ]
    },
    {
     "data": {
      "text/plain": [
       "(array([[15.19999975],\n",
       "        [22.39999967],\n",
       "        [22.59999973],\n",
       "        [14.79999987]]), 0.875)"
      ]
     },
     "execution_count": 330,
     "metadata": {},
     "output_type": "execute_result"
    }
   ],
   "source": [
    "gaussSeidel(setAmat(4, 2), b1)"
   ]
  },
  {
   "cell_type": "markdown",
   "metadata": {},
   "source": [
    "#### 実行"
   ]
  },
  {
   "cell_type": "code",
   "execution_count": 331,
   "metadata": {},
   "outputs": [
    {
     "name": "stdout",
     "output_type": "stream",
     "text": [
      "43 回で収束\n",
      "ライブラリの解との差の対数:  -6.28946808007715\n",
      "Mのノルムの値:  0.875\n",
      "推定ループ回数:  137.95018820592654\n",
      "6 回で収束\n",
      "ライブラリの解との差の対数:  -10.553374454718243\n",
      "Mのノルムの値:  0.052625000000000005\n",
      "推定ループ回数:  6.255826270173031\n"
     ]
    }
   ],
   "source": [
    "testSolve(gaussSeidel, 4, 2, b1)\n",
    "testSolve(gaussSeidel, 4, 20, b1)"
   ]
  },
  {
   "cell_type": "code",
   "execution_count": 332,
   "metadata": {},
   "outputs": [
    {
     "name": "stdout",
     "output_type": "stream",
     "text": [
      "1512 回で収束\n",
      "ライブラリの解との差の対数:  -2.5832445942609326\n",
      "Mのノルムの値:  0.9999999995343387\n",
      "推定ループ回数:  39558110673.45584\n",
      "8 回で収束\n",
      "ライブラリの解との差の対数:  -9.6377690564688\n",
      "Mのノルムの値:  0.052631578947368425\n",
      "推定ループ回数:  6.256091864796327\n"
     ]
    }
   ],
   "source": [
    "testSolve(gaussSeidel, 2**5, 2, b2)\n",
    "testSolve(gaussSeidel, 2**5, 20, b2)"
   ]
  },
  {
   "cell_type": "code",
   "execution_count": 35,
   "metadata": {},
   "outputs": [
    {
     "data": {
      "text/plain": [
       "6.256091864796327"
      ]
     },
     "execution_count": 35,
     "metadata": {},
     "output_type": "execute_result"
    }
   ],
   "source": [
    "np.log(10**(-8))/np.log(0.052631578947368425)"
   ]
  },
  {
   "cell_type": "markdown",
   "metadata": {},
   "source": [
    "## SOR法"
   ]
  },
  {
   "cell_type": "code",
   "execution_count": 333,
   "metadata": {},
   "outputs": [],
   "source": [
    "def SOR(A, b, initial_point=None, eps=10**(-8), max_step=10**3):\n",
    "    \"\"\"線形連立方程式を SOR 法で解く\n",
    "    ---return---\n",
    "    x : ヤコビ法で求められた数値解\n",
    "    norm_M : float. 反復行列Mの無限ノルム.\n",
    "    \"\"\"\n",
    "\n",
    "    if (initial_point is None):\n",
    "        initial_point = np.ones([np.shape(b)[0], 1])\n",
    "        \n",
    "    x_old = initial_point\n",
    "    error = 1e12\n",
    "\n",
    "    D = np.diag(np.diag(A))\n",
    "    L = np.tril(A, -1)\n",
    "    U = A - L - D # Aからできた上三角行列\n",
    "\n",
    "    Mj = np.dot(np.linalg.inv(D), -(L+U)) # ヤコビ法の反復行列\n",
    "    rho_Mj = max(abs(np.linalg.eigvals(Mj))) # ヤコビ法の反復行列のスペクトル半径を求める\n",
    "    w = 2/(1+np.sqrt(1-rho_Mj**2)) # 緩和係数を定める\n",
    "\n",
    "    T = np.linalg.inv(D+w*L)\n",
    "    Lw = np.dot(T, -w*U+(1-w)*D)\n",
    "    c = np.dot(T, w*b)\n",
    "    \n",
    "    # 反復法でのMを計算する\n",
    "    norm_M = np.linalg.norm(Lw,np.inf)\n",
    "    \n",
    "    for i in range(max_step):\n",
    "        x = np.dot(Lw, x_old) + c\n",
    "        error = np.linalg.norm(x-x_old)/np.linalg.norm(x)\n",
    "        \n",
    "        if (error < eps):\n",
    "            print(i+1, \"回で収束\")\n",
    "            return x, norm_M   \n",
    "        x_old = x\n",
    "       \n",
    "    print(max_step,\"回で収束しない\")\n",
    "    return x, norm_M"
   ]
  },
  {
   "cell_type": "code",
   "execution_count": 334,
   "metadata": {},
   "outputs": [
    {
     "name": "stdout",
     "output_type": "stream",
     "text": [
      "18 回で収束\n",
      "ライブラリの解との差の対数:  -7.382047326823862\n",
      "Mのノルムの値:  0.9561392285664565\n",
      "推定ループ回数:  410.7015861775613\n"
     ]
    }
   ],
   "source": [
    "testSolve(SOR, 4, 2, b1)"
   ]
  },
  {
   "cell_type": "code",
   "execution_count": 335,
   "metadata": {},
   "outputs": [
    {
     "name": "stdout",
     "output_type": "stream",
     "text": [
      "6 回で収束\n",
      "ライブラリの解との差の対数:  -12.209237305445372\n",
      "Mのノルムの値:  0.051723730416391736\n",
      "推定ループ回数:  6.219339818409555\n"
     ]
    }
   ],
   "source": [
    "testSolve(SOR, 4, 20, b1)"
   ]
  },
  {
   "cell_type": "code",
   "execution_count": 336,
   "metadata": {
    "scrolled": true
   },
   "outputs": [
    {
     "name": "stdout",
     "output_type": "stream",
     "text": [
      "107 回で収束\n",
      "ライブラリの解との差の対数:  -3.96604862960091\n",
      "Mのノルムの値:  1.7395858123826198\n",
      "収束しない\n"
     ]
    }
   ],
   "source": [
    "testSolve(SOR, 2**5, 2, b2)"
   ]
  },
  {
   "cell_type": "code",
   "execution_count": 337,
   "metadata": {},
   "outputs": [
    {
     "name": "stdout",
     "output_type": "stream",
     "text": [
      "8 回で収束\n",
      "ライブラリの解との差の対数:  -9.802668057637392\n",
      "Mのノルムの値:  0.052614250686429526\n",
      "推定ループ回数:  6.255392293349759\n"
     ]
    }
   ],
   "source": [
    "testSolve(SOR, 2**5, 20, b2)"
   ]
  },
  {
   "cell_type": "markdown",
   "metadata": {},
   "source": [
    "## まとめて解いてみる"
   ]
  },
  {
   "cell_type": "code",
   "execution_count": 41,
   "metadata": {},
   "outputs": [],
   "source": [
    "# インポート\n",
    "import matplotlib\n",
    "matplotlib.use('Agg')\n",
    "from matplotlib import pyplot as plt\n",
    "import numpy as np\n",
    "\n",
    "%matplotlib inline"
   ]
  },
  {
   "cell_type": "code",
   "execution_count": 148,
   "metadata": {},
   "outputs": [],
   "source": [
    "import os"
   ]
  },
  {
   "cell_type": "code",
   "execution_count": 355,
   "metadata": {},
   "outputs": [],
   "source": [
    "class sloveSimultaneousEq(object):\n",
    "    \"\"\"連立一次方程式に対する解法\"\"\"\n",
    "    \n",
    "    _KMAX = 10**5\n",
    "    _error_eps = 10**(-8)\n",
    "    \n",
    "    cg_x1 = cg_x2 = None\n",
    "    cg_error1 = cg_error2 = None\n",
    "    cg_m_norm1 = cg_m_norm2 = None\n",
    "    \n",
    "    jacobi_x1 = jacobi_x2 = None\n",
    "    jacobi_error1 = jacobi_error2 = None\n",
    "    jacobi_m_norm1 = jacobi_m_norm2 = None\n",
    "    \n",
    "    gaussSeidel_x1 = gaussSeidel_x2 = None\n",
    "    gaussSeidel_error1 = gaussSeidel_error2 = None\n",
    "    gs_m_norm1 = gs_m_norm2 = None\n",
    "    \n",
    "    SOR_x1= SOR_x2 = None\n",
    "    SOR_error1= SOR_error2 = None\n",
    "    sor_m_norm1 = sor_m_norm2 = None\n",
    "    \n",
    "    exist_dir = False\n",
    "    \n",
    "    def __init__(self, N, initial_point=None):\n",
    "        \"\"\"問題設定をする。Nはサイズ数\"\"\"\n",
    "        self.N = N\n",
    "        self.dir_path = \"figure/errorPlot_N_\"+str(N)\n",
    "        self.b = np.random.randint(1, 9, (N, 1)) \n",
    "        self.A1 = self.setAmat(N, 2)\n",
    "        self.A2 = self.setAmat(N, 20)\n",
    "        \n",
    "        if (initial_point is None):\n",
    "            self.initial_point = np.ones([N,1])\n",
    "\n",
    "    def setAmat(self, size_N, c):\n",
    "        \"\"\"\n",
    "        size_N*size_Nで対角成分がc、その前後のみ-1の行列Aを返す。\n",
    "        \"\"\"\n",
    "        tmp = np.triu(-np.ones([size_N, size_N]), 1) - np.triu(-np.ones([size_N, size_N]), 2)\n",
    "        return c*np.identity(size_N) + tmp + tmp.T\n",
    "    \n",
    "    def doCG(self, eps=_error_eps, max_step_num=_KMAX):\n",
    "        \"\"\"A1,A2とbについてCG法を実行する\"\"\"\n",
    "        print(\"---CG法実行---\")\n",
    "        print(\"c=2のとき : \")\n",
    "        self.cg_x1, self.cg_error1 = self.cg(self.A1,  self.b, self.initial_point)\n",
    "        print(\"c=20のとき : \")\n",
    "        self.cg_x2, self.cg_error2 = self.cg(self.A2,  self.b, self.initial_point)\n",
    "        print(\"--\"*7)\n",
    "    \n",
    "    def doJacobi(self, eps=_error_eps, max_step_num=_KMAX):\n",
    "        \"\"\"A1,A2とbについてJacobi法を実行する\"\"\"\n",
    "        print(\"---Jacobi法実行---\")\n",
    "        print(\"c=2のとき : \")\n",
    "        self.jacobi_x1, self.jacobi_m_norm1, self.jacobi_error1 = self.jacobi(self.A1,  self.b, self.initial_point)\n",
    "        print(\"c=20のとき : \")\n",
    "        self.jacobi_x2, self.jacobi_m_norm2, self.jacobi_error2 = self.jacobi(self.A2,  self.b, self.initial_point)\n",
    "        print(\"--\"*7)\n",
    "        \n",
    "    def doGaussSeidel(self, eps=_error_eps, max_step_num=_KMAX):\n",
    "        \"\"\"A1,A2とbについてJacobi法を実行する\"\"\"\n",
    "        print(\"---GaussSeidel法実行---\")\n",
    "        print(\"c=2のとき : \")\n",
    "        self.gaussSeidel_x1, self.gs_m_norm1, self.gaussSeidel_error1 = self.gaussSeidel(self.A1,  self.b, self.initial_point)\n",
    "        print(\"c=20のとき : \")\n",
    "        self.gaussSeidel_x2, self.gs_m_norm2, self.gaussSeidel_error2 = self.gaussSeidel(self.A2,  self.b, self.initial_point)\n",
    "        print(\"--\"*7)\n",
    "    \n",
    "    def doSOR(self, eps=_error_eps, max_step_num=_KMAX):\n",
    "        \"\"\"A1,A2とbについてJacobi法を実行する\"\"\"\n",
    "        print(\"---SOR法実行---\")\n",
    "        print(\"c=2のとき : \")\n",
    "        self.SOR_x1, self.sor_m_norm1, self.SOR_error1 = self.SOR(self.A1,  self.b, self.initial_point)\n",
    "        print(\"c=20のとき : \")\n",
    "        self.SOR_x2, self.sor_m_norm2, self.SOR_error2 = self.SOR(self.A2,  self.b, self.initial_point)\n",
    "        print(\"--\"*7)\n",
    "    \n",
    "    \n",
    "    def cg(self, A, b, initial_point=None, eps=_error_eps, max_step=_KMAX):\n",
    "        \"\"\"共役勾配法で連立線形方程式をとく\n",
    "        ---Input---\n",
    "        A : np.array.n*nの係数行列.\n",
    "        b : np.array. n*1の縦ベクトル.\n",
    "        initial_point : np.array. 初期値.\n",
    "        max_step : int.最大のステップ回数.\n",
    "        eps : float. 収束判定に使う.\n",
    "\n",
    "        ---return---\n",
    "        x : np.array. 答えとなるベクトル.\n",
    "        \"\"\"\n",
    "\n",
    "        if (initial_point is None):\n",
    "            initial_point = np.zeros([np.shape(b)[0], 1])\n",
    "\n",
    "        x = np.copy(initial_point)\n",
    "        p = r = b - np.dot(A, x)\n",
    "\n",
    "        #  残差\n",
    "        residual_errors = []\n",
    "\n",
    "        for i in range(max_step):\n",
    "            times_A_and_p = np.dot(A, p)\n",
    "            work = np.dot(p.T, times_A_and_p)\n",
    "            alpha = np.dot(p.T, r)/work\n",
    "            x += alpha*p\n",
    "            r -=  alpha*times_A_and_p\n",
    "            error = np.linalg.norm(r, 2)/np.linalg.norm(b,2)\n",
    "            residual_errors.append(np.copy(r))\n",
    "\n",
    "            # 収束判定 : 残渣がepsを下回れば停止\n",
    "            if (error < eps):\n",
    "                print(i+1,\"回で収束\")\n",
    "                return x, residual_errors\n",
    "\n",
    "            # 収束しなかったら更新\n",
    "            else:\n",
    "                beta = - np.dot(r.T, times_A_and_p)/work\n",
    "                p = r + beta*p\n",
    "\n",
    "        print(max_step,\"回で失敗\")\n",
    "        return x, residual_errors\n",
    "    \n",
    "    \n",
    "    def jacobi(self, A, b, initial_point=None, eps=_error_eps, max_step=_KMAX):\n",
    "        \"\"\"線形連立方程式をヤコビ法で解く\n",
    "        ---return---\n",
    "        x : ヤコビ法で求められた数値解\n",
    "        residual_errors : 配列。各ループごとの残差。\n",
    "        \"\"\"\n",
    "\n",
    "        if (initial_point is None):\n",
    "            initial_point = np.zeros([np.shape(b)[0], 1])\n",
    "\n",
    "        x_old = np.copy(initial_point)\n",
    "        error = 1e12\n",
    "\n",
    "        dig_array = np.diag(A)\n",
    "        D = np.diagflat(dig_array)\n",
    "        D_inv = np.diagflat(1/dig_array)\n",
    "        dig_ndarray = np.array([dig_array])\n",
    "        R = A - D\n",
    "        \n",
    "        # 反復法でのMを計算する\n",
    "        M = np.dot(D_inv, R)\n",
    "        norm_M = np.linalg.norm(M, np.inf)\n",
    "\n",
    "        # 残差\n",
    "        residual_error = 0\n",
    "        residual_errors = []\n",
    "\n",
    "        for i in range(max_step):\n",
    "            x = (b-np.dot(R, x_old))/dig_ndarray.T\n",
    "            residual_error = np.linalg.norm(np.dot(A,x)-b, 2)\n",
    "            error = residual_error/np.linalg.norm(b,2)\n",
    "            residual_errors.append(np.copy(residual_error))\n",
    "\n",
    "            # 収束判定\n",
    "            if (error < eps):\n",
    "                print(i+1,\"回で収束\")\n",
    "                return x, norm_M, residual_errors\n",
    "\n",
    "            else:\n",
    "                x_old = x\n",
    "\n",
    "        print(max_step,\"回で失敗\")\n",
    "        return x, norm_M, residual_errors\n",
    "    \n",
    "    def gaussSeidel(self, A, b, initial_point=None, eps=_error_eps, max_step=_KMAX):\n",
    "        \"\"\"線形連立方程式をガウス・ザイデル法で解く\n",
    "        ---return---\n",
    "        x : ヤコビ法で求められた数値解\n",
    "        residual_errors : array。各ループごとの残差の配列。\n",
    "        \"\"\"\n",
    "\n",
    "        if (initial_point is None):\n",
    "            initial_point = np.zeros([np.shape(b)[0], 1])\n",
    "\n",
    "        x_old = np.copy(initial_point)\n",
    "        error = 1e12\n",
    "\n",
    "        L = np.tril(A)\n",
    "        U = A - L\n",
    "        LInv = np.linalg.inv(L)\n",
    "        \n",
    "        # 反復法でのMを計算する\n",
    "        M = np.dot(LInv, U)\n",
    "        norm_M = np.linalg.norm(M,np.inf)\n",
    "\n",
    "        # 残差\n",
    "        residual_error = 0\n",
    "        residual_errors = []\n",
    "\n",
    "        for i in range(max_step):\n",
    "            x = np.dot(LInv, b-np.dot(U, x_old))\n",
    "            residual_error = np.linalg.norm(np.dot(A,x)-b, 2)\n",
    "            error = residual_error/np.linalg.norm(b,2)\n",
    "            residual_errors.append(np.copy(residual_error))\n",
    "\n",
    "            if (error  < eps):\n",
    "                print(i+1,\"回で収束\")\n",
    "                return x, norm_M, residual_errors\n",
    "\n",
    "            else:\n",
    "                x_old = x\n",
    "\n",
    "        print(max_step,\"回で収束しない\")\n",
    "\n",
    "        return x, norm_M, residual_errors\n",
    "    \n",
    "    \n",
    "    def SOR(self, A, b, initial_point=None, eps=_error_eps, max_step=_KMAX):\n",
    "        \"\"\"線形連立方程式を SOR 法で解く\n",
    "        ---return---\n",
    "        x : ヤコビ法で求められた数値解\n",
    "        residual_errors : 配列。各ループごとの残差。\n",
    "        \"\"\"\n",
    "\n",
    "        if (initial_point is None):\n",
    "            initial_point = np.zeros([np.shape(b)[0], 1])\n",
    "\n",
    "        x_old = np.copy(initial_point)\n",
    "        error = 1e12\n",
    "\n",
    "        D = np.diag(np.diag(A))\n",
    "        L = np.tril(A, -1)\n",
    "        U = A - L - D # Aからできた上三角行列\n",
    "\n",
    "        Mj = np.dot(np.linalg.inv(D), -(L+U)) # ヤコビ法の反復行列\n",
    "        rho_Mj = max(abs(np.linalg.eigvals(Mj))) # ヤコビ法の反復行列のスペクトル半径を求める\n",
    "        w = 2/(1+np.sqrt(1-rho_Mj**2)) # 緩和係数を定める\n",
    "\n",
    "        T = np.linalg.inv(D+w*L)\n",
    "        Lw = np.dot(T, -w*U+(1-w)*D)\n",
    "        c = np.dot(T, w*b)\n",
    "        \n",
    "        # 反復法でのMを計算する\n",
    "        norm_M = np.linalg.norm(Lw,np.inf)\n",
    "\n",
    "         # 残差\n",
    "        residual_error = 0\n",
    "        residual_errors = []\n",
    "\n",
    "        for i in range(max_step):\n",
    "            x = np.dot(Lw, x_old) + c\n",
    "            residual_error = np.linalg.norm(np.dot(A,x)-b, 2)\n",
    "            error = residual_error/np.linalg.norm(b,2)\n",
    "            residual_errors.append(np.copy(residual_error))\n",
    "\n",
    "            if (error < eps):\n",
    "                print(i+1, \"回で収束\")\n",
    "                return x, norm_M,residual_errors \n",
    "            \n",
    "            else:\n",
    "                x_old = x\n",
    "\n",
    "        print(max_step,\"回で収束しない\")\n",
    "        return x, norm_M, residual_errors\n",
    "    \n",
    "    \n",
    "    def judgeSpeed(self, method):\n",
    "        \"\"\"反復法において収束のはやさを判断する\"\"\"\n",
    "        print(\"----収束速度判定---\")\n",
    "        \n",
    "        if (method == \"jacobi\"):\n",
    "            print(\"c=2のとき : \")\n",
    "            self.judgeMnorm(self.jacobi_m_norm1)\n",
    "            print(\"--\"*5)\n",
    "            print(\"c=20のとき : \")\n",
    "            self.judgeMnorm(self.jacobi_m_norm2)\n",
    "            \n",
    "        elif (method == \"gs\"):\n",
    "            print(\"c=2のとき : \")\n",
    "            self.judgeMnorm(self.gs_m_norm1)\n",
    "            print(\"--\"*5)\n",
    "            print(\"c=20のとき : \")\n",
    "            self.judgeMnorm(self.gs_m_norm2)\n",
    "\n",
    "        elif (method == \"sor\"):\n",
    "            print(\"c=2のとき : \")\n",
    "            self.judgeMnorm(self.sor_m_norm1)\n",
    "            print(\"c=20のとき : \")\n",
    "            self.judgeMnorm(self.sor_m_norm2)\n",
    "            \n",
    "        else:\n",
    "            print(\"mthodはjacobi, gs, sorで選んでください\")\n",
    "        \n",
    "        print(\"--\"*7)\n",
    "    \n",
    "    def judgeMnorm(self, m_norm):\n",
    "        print(\"Mのノルムの値: \",m_norm)\n",
    "        if (m_norm < 1):\n",
    "            print(\"推定ループ回数: \", np.log(self._error_eps)/np.log(m_norm))\n",
    "        elif (m_norm == 1):\n",
    "            print(\"収束するが回数を要する\")\n",
    "        else:\n",
    "            print(\"収束しない\")\n",
    "    \n",
    "    \n",
    "    def plotGraph(self, y1_list, y2_list, method_name, save_pathname=None):\n",
    "        \"\"\"回数ごとの変化をグラフとして書き出す関数\"\"\"\n",
    "        \n",
    "        times = range(len(y1_list))\n",
    "        y = np.array([np.log10(np.linalg.norm(y)) for y in y1_list])\n",
    "        plt.plot(times, y, label='$c = 2$', linestyle='solid', marker='x')\n",
    "        \n",
    "        times = range(len(y2_list))\n",
    "        y = np.array([np.log10(np.linalg.norm(y)) for y in y2_list])\n",
    "        plt.plot(times, y, label='$c = 20$', linestyle='dashdot', marker='*')\n",
    "        plt.xlabel(\"steps\")\n",
    "        \n",
    "        # タイトルをつける\n",
    "        if self.N > 8:\n",
    "            title_name = \"Residual Error of \" + method_name\n",
    "        else:\n",
    "            title_name = \"Residual Error of \" + method_name + \" by $b=\" + str(self.b[:,0]).replace(' ', ', ')+\"^T$\"\n",
    "        \n",
    "        plt.title(title_name)\n",
    "            \n",
    "            \n",
    "        plt.legend()\n",
    "\n",
    "        if save_pathname is not None:\n",
    "            # save as png\n",
    "            plt.savefig(save_pathname) \n",
    "\n",
    "        plt.show()\n",
    "        \n",
    "    def plotError(self, method, do_method=False, save=False):\n",
    "        \"\"\"残差をプロットする\"\"\"\n",
    "        \n",
    "        if (save and not(self.exist_dir)):\n",
    "            if not(os.path.exists(self.dir_path)):\n",
    "                os.makedirs(self.dir_path)\n",
    "                self.exist_dir = True\n",
    "            else:\n",
    "                self.exist_dir = True\n",
    "        \n",
    "        save_pathname = None\n",
    "        \n",
    "        if (method == \"all\"):\n",
    "            # 全て描画\n",
    "            method_names = [\"cg\", \"jacobi\", \"gs\", \"sor\"]\n",
    "            \n",
    "            for method_name in method_names:\n",
    "                self.plotError(method_name, do_method, save)\n",
    "        \n",
    "        elif (method == \"cg\"):\n",
    "            # CG法のみ描画\n",
    "            if (do_method or self.cg_error1 is None):\n",
    "                self.doCG()\n",
    "            \n",
    "            if (save):\n",
    "                save_pathname = self.dir_path+\"/cg.png\"\n",
    "                \n",
    "            self.plotGraph(self.cg_error1, self.cg_error2, \"CG\", save_pathname)\n",
    "        \n",
    "        elif (method == \"jacobi\"):\n",
    "            # ヤコビ法のみ描画\n",
    "            if (do_method or self.jacobi_error1 is None):\n",
    "                self.doJacobi()\n",
    "                self.judgeSpeed(\"jacobi\")\n",
    "            \n",
    "            if (save):\n",
    "                save_pathname = self.dir_path+\"/jacobi.png\"\n",
    "                \n",
    "            self.plotGraph(self.jacobi_error1, self.jacobi_error2, \"Jacobi\", save_pathname)\n",
    "        \n",
    "        elif (method == \"gs\"):\n",
    "            # GaussSeidel法のみ描画\n",
    "            if (do_method or self.gaussSeidel_error1 is None):\n",
    "                self.doGaussSeidel()\n",
    "                self.judgeSpeed(\"gs\")\n",
    "            \n",
    "            if (save):\n",
    "                save_pathname =self.dir_path+\"/gaussSeidel.png\"\n",
    "            \n",
    "            self.plotGraph(self.gaussSeidel_error1, self.gaussSeidel_error2, \"GaussSeidel\", save_pathname)\n",
    "            \n",
    "        \n",
    "        elif (method == \"sor\"):\n",
    "            # SOR法のみ描画\n",
    "            if (do_method or self.SOR_error1 is None):\n",
    "                self.doSOR()\n",
    "                self.judgeSpeed(\"sor\")\n",
    "            \n",
    "            if (save):\n",
    "                save_pathname = self.dir_path+\"/sor.png\"\n",
    "            \n",
    "            self.plotGraph(self.SOR_error1, self.SOR_error2, \"SOR\", save_pathname)\n",
    "        \n",
    "        else:\n",
    "            print(\"method名はcg, jacobi, gauss, sor, allのいずれかを指定してください\")"
   ]
  },
  {
   "cell_type": "code",
   "execution_count": 356,
   "metadata": {},
   "outputs": [],
   "source": [
    "test = sloveSimultaneousEq(2**3)"
   ]
  },
  {
   "cell_type": "code",
   "execution_count": 259,
   "metadata": {
    "scrolled": true
   },
   "outputs": [
    {
     "data": {
      "text/plain": [
       "array([[4],\n",
       "       [4],\n",
       "       [3],\n",
       "       [7],\n",
       "       [1],\n",
       "       [3],\n",
       "       [2],\n",
       "       [7]])"
      ]
     },
     "execution_count": 259,
     "metadata": {},
     "output_type": "execute_result"
    }
   ],
   "source": [
    "test.b"
   ]
  },
  {
   "cell_type": "code",
   "execution_count": 340,
   "metadata": {
    "scrolled": true
   },
   "outputs": [
    {
     "name": "stdout",
     "output_type": "stream",
     "text": [
      "---CG法実行---\n",
      "c=2のとき : \n",
      "9 回で収束\n",
      "c=20のとき : \n",
      "7 回で収束\n",
      "--------------\n"
     ]
    }
   ],
   "source": [
    "test.doCG()"
   ]
  },
  {
   "cell_type": "code",
   "execution_count": 341,
   "metadata": {},
   "outputs": [
    {
     "name": "stdout",
     "output_type": "stream",
     "text": [
      "---SOR法実行---\n",
      "c=2のとき : \n",
      "33 回で収束\n",
      "c=20のとき : \n",
      "7 回で収束\n",
      "--------------\n",
      "----収束速度判定---\n",
      "c=2のとき : \n",
      "Mのノルムの値:  1.2354358948485538\n",
      "収束しない\n",
      "c=20のとき : \n",
      "Mのノルムの値:  0.052328224096172785\n",
      "推定ループ回数:  6.243834194214405\n",
      "--------------\n"
     ]
    }
   ],
   "source": [
    "test.doSOR()\n",
    "test.judgeSpeed(\"sor\")"
   ]
  },
  {
   "cell_type": "code",
   "execution_count": 342,
   "metadata": {},
   "outputs": [
    {
     "name": "stdout",
     "output_type": "stream",
     "text": [
      "---Jacobi法実行---\n",
      "c=2のとき : \n",
      "294 回で収束\n",
      "c=20のとき : \n",
      "9 回で収束\n",
      "--------------\n",
      "----収束速度判定---\n",
      "c=2のとき : \n",
      "Mのノルムの値:  1.0\n",
      "収束するが回数を要する\n",
      "----------\n",
      "c=20のとき : \n",
      "Mのノルムの値:  0.1\n",
      "推定ループ回数:  8.000000000000002\n",
      "--------------\n"
     ]
    }
   ],
   "source": [
    "test.doJacobi()\n",
    "test.judgeSpeed(\"jacobi\")"
   ]
  },
  {
   "cell_type": "code",
   "execution_count": 263,
   "metadata": {},
   "outputs": [
    {
     "name": "stdout",
     "output_type": "stream",
     "text": [
      "---GaussSeidel法実行---\n",
      "c=2のとき : \n",
      "148 回で収束\n",
      "c=20のとき : \n",
      "7 回で収束\n",
      "--------------\n",
      "----収束速度判定---\n",
      "c=2のとき : \n",
      "Mのノルムの値:  0.9921875\n",
      "推定ループ回数:  2348.624755143935\n",
      "----------\n",
      "c=20のとき : \n",
      "Mのノルムの値:  0.052631578906250004\n",
      "推定ループ回数:  6.256091863136393\n",
      "--------------\n"
     ]
    }
   ],
   "source": [
    "test.doGaussSeidel()\n",
    "test.judgeSpeed(\"gs\")"
   ]
  },
  {
   "cell_type": "code",
   "execution_count": 296,
   "metadata": {},
   "outputs": [
    {
     "name": "stdout",
     "output_type": "stream",
     "text": [
      "---CG法実行---\n",
      "c=2のとき : \n",
      "9 回で収束\n",
      "c=20のとき : \n",
      "6 回で収束\n",
      "--------------\n"
     ]
    },
    {
     "data": {
      "image/png": "[encoded data removed]",
      "text/plain": [
       "<matplotlib.figure.Figure at 0x117124470>"
      ]
     },
     "metadata": {},
     "output_type": "display_data"
    }
   ],
   "source": [
    "test.plotError(\"cg\")"
   ]
  },
  {
   "cell_type": "code",
   "execution_count": 357,
   "metadata": {},
   "outputs": [
    {
     "name": "stdout",
     "output_type": "stream",
     "text": [
      "---CG法実行---\n",
      "c=2のとき : \n",
      "9 回で収束\n",
      "c=20のとき : \n",
      "6 回で収束\n",
      "--------------\n"
     ]
    },
    {
     "data": {
      "image/png": "[encoded data removed]",
      "text/plain": [
       "<matplotlib.figure.Figure at 0x115c9bdd8>"
      ]
     },
     "metadata": {},
     "output_type": "display_data"
    },
    {
     "name": "stdout",
     "output_type": "stream",
     "text": [
      "---Jacobi法実行---\n",
      "c=2のとき : \n",
      "294 回で収束\n",
      "c=20のとき : \n",
      "9 回で収束\n",
      "--------------\n",
      "----収束速度判定---\n",
      "c=2のとき : \n",
      "Mのノルムの値:  1.0\n",
      "収束するが回数を要する\n",
      "----------\n",
      "c=20のとき : \n",
      "Mのノルムの値:  0.1\n",
      "推定ループ回数:  8.000000000000002\n",
      "--------------\n"
     ]
    },
    {
     "data": {
      "image/png": "[encoded data removed]",
      "text/plain": [
       "<matplotlib.figure.Figure at 0x116f12c88>"
      ]
     },
     "metadata": {},
     "output_type": "display_data"
    },
    {
     "name": "stdout",
     "output_type": "stream",
     "text": [
      "---GaussSeidel法実行---\n",
      "c=2のとき : \n",
      "148 回で収束\n",
      "c=20のとき : \n",
      "7 回で収束\n",
      "--------------\n",
      "----収束速度判定---\n",
      "c=2のとき : \n",
      "Mのノルムの値:  0.9921875\n",
      "推定ループ回数:  2348.624755143935\n",
      "----------\n",
      "c=20のとき : \n",
      "Mのノルムの値:  0.052631578906250004\n",
      "推定ループ回数:  6.256091863136393\n",
      "--------------\n"
     ]
    },
    {
     "data": {
      "image/png": "[encoded data removed]",
      "text/plain": [
       "<matplotlib.figure.Figure at 0x116f2b0f0>"
      ]
     },
     "metadata": {},
     "output_type": "display_data"
    },
    {
     "name": "stdout",
     "output_type": "stream",
     "text": [
      "---SOR法実行---\n",
      "c=2のとき : \n",
      "33 回で収束\n",
      "c=20のとき : \n",
      "7 回で収束\n",
      "--------------\n",
      "----収束速度判定---\n",
      "c=2のとき : \n",
      "Mのノルムの値:  1.2354358948485538\n",
      "収束しない\n",
      "c=20のとき : \n",
      "Mのノルムの値:  0.052328224096172785\n",
      "推定ループ回数:  6.243834194214405\n",
      "--------------\n"
     ]
    },
    {
     "data": {
      "image/png": "[encoded data removed]",
      "text/plain": [
       "<matplotlib.figure.Figure at 0x116cc3a20>"
      ]
     },
     "metadata": {},
     "output_type": "display_data"
    }
   ],
   "source": [
    "test.plotError(\"all\", save=True)"
   ]
  },
  {
   "cell_type": "markdown",
   "metadata": {},
   "source": [
    "### テスト"
   ]
  },
  {
   "cell_type": "code",
   "execution_count": 206,
   "metadata": {},
   "outputs": [
    {
     "name": "stdout",
     "output_type": "stream",
     "text": [
      "7 回で収束\n",
      "ライブラリの解との差の対数:  -9.606398271871873\n",
      "Mのノルムの値:  0.052328224096172785\n",
      "推定ループ回数:  6.243834194214405\n"
     ]
    }
   ],
   "source": [
    "testSolve(SOR, 8, 20, test.b)"
   ]
  },
  {
   "cell_type": "code",
   "execution_count": 343,
   "metadata": {},
   "outputs": [],
   "source": [
    "test2 = sloveSimultaneousEq(2**5)"
   ]
  },
  {
   "cell_type": "code",
   "execution_count": 344,
   "metadata": {},
   "outputs": [
    {
     "name": "stdout",
     "output_type": "stream",
     "text": [
      "---CG法実行---\n",
      "c=2のとき : \n",
      "33 回で収束\n",
      "c=20のとき : \n",
      "7 回で収束\n",
      "--------------\n"
     ]
    },
    {
     "data": {
      "image/png": "[encoded data removed]",
      "text/plain": [
       "<matplotlib.figure.Figure at 0x116fa4240>"
      ]
     },
     "metadata": {},
     "output_type": "display_data"
    },
    {
     "name": "stdout",
     "output_type": "stream",
     "text": [
      "---Jacobi法実行---\n",
      "c=2のとき : \n",
      "4009 回で収束\n",
      "c=20のとき : \n",
      "9 回で収束\n",
      "--------------\n",
      "----収束速度判定---\n",
      "c=2のとき : \n",
      "Mのノルムの値:  1.0\n",
      "収束するが回数を要する\n",
      "----------\n",
      "c=20のとき : \n",
      "Mのノルムの値:  0.1\n",
      "推定ループ回数:  8.000000000000002\n",
      "--------------\n"
     ]
    },
    {
     "data": {
      "image/png": "[encoded data removed]",
      "text/plain": [
       "<matplotlib.figure.Figure at 0x116faca20>"
      ]
     },
     "metadata": {},
     "output_type": "display_data"
    },
    {
     "name": "stdout",
     "output_type": "stream",
     "text": [
      "---GaussSeidel法実行---\n",
      "c=2のとき : \n",
      "2006 回で収束\n",
      "c=20のとき : \n",
      "7 回で収束\n",
      "--------------\n",
      "----収束速度判定---\n",
      "c=2のとき : \n",
      "Mのノルムの値:  0.9999999995343387\n",
      "推定ループ回数:  39558110673.45584\n",
      "----------\n",
      "c=20のとき : \n",
      "Mのノルムの値:  0.052631578947368425\n",
      "推定ループ回数:  6.256091864796327\n",
      "--------------\n"
     ]
    },
    {
     "data": {
      "image/png": "[encoded data removed]",
      "text/plain": [
       "<matplotlib.figure.Figure at 0x116f85518>"
      ]
     },
     "metadata": {},
     "output_type": "display_data"
    },
    {
     "name": "stdout",
     "output_type": "stream",
     "text": [
      "---SOR法実行---\n",
      "c=2のとき : \n",
      "121 回で収束\n",
      "c=20のとき : \n",
      "7 回で収束\n",
      "--------------\n",
      "----収束速度判定---\n",
      "c=2のとき : \n",
      "Mのノルムの値:  1.7395858123826198\n",
      "収束しない\n",
      "c=20のとき : \n",
      "Mのノルムの値:  0.052614250686429526\n",
      "推定ループ回数:  6.255392293349759\n",
      "--------------\n"
     ]
    },
    {
     "data": {
      "image/png": "[encoded data removed]",
      "text/plain": [
       "<matplotlib.figure.Figure at 0x115c0c470>"
      ]
     },
     "metadata": {},
     "output_type": "display_data"
    }
   ],
   "source": [
    "test2.plotError(\"all\", save=True)"
   ]
  },
  {
   "cell_type": "code",
   "execution_count": 345,
   "metadata": {},
   "outputs": [
    {
     "data": {
      "text/plain": [
       "'[5, 7, 4, 6, 1, 6, 6, 3, 2, 4, 4, 7, 4, 4, 5, 1, 7, 3, 3, 7, 2, 2, 5, 6, 5, 1, 1, 8, 8, 2, 6, 1]'"
      ]
     },
     "execution_count": 345,
     "metadata": {},
     "output_type": "execute_result"
    }
   ],
   "source": [
    "str(test2.b[:,0]).replace(' ', ', ')"
   ]
  },
  {
   "cell_type": "code",
   "execution_count": 306,
   "metadata": {},
   "outputs": [
    {
     "name": "stdout",
     "output_type": "stream",
     "text": [
      "107 回で収束\n",
      "ライブラリの解との差の対数:  -3.854305543704884\n",
      "Mのノルムの値:  1.7395858123826198\n",
      "収束しない\n"
     ]
    }
   ],
   "source": [
    "testSolve(SOR, test2.N, 2, test2.b)"
   ]
  },
  {
   "cell_type": "code",
   "execution_count": 178,
   "metadata": {},
   "outputs": [
    {
     "data": {
      "text/plain": [
       "array([5, 1, 4, 1, 8, 5, 1, 8])"
      ]
     },
     "execution_count": 178,
     "metadata": {},
     "output_type": "execute_result"
    }
   ],
   "source": [
    "test.b[:,0]"
   ]
  },
  {
   "cell_type": "code",
   "execution_count": 325,
   "metadata": {},
   "outputs": [
    {
     "data": {
      "text/plain": [
       "array([[ 2., -1.,  0., ...,  0.,  0.,  0.],\n",
       "       [-1.,  2., -1., ...,  0.,  0.,  0.],\n",
       "       [ 0., -1.,  2., ...,  0.,  0.,  0.],\n",
       "       ...,\n",
       "       [ 0.,  0.,  0., ...,  2., -1.,  0.],\n",
       "       [ 0.,  0.,  0., ..., -1.,  2., -1.],\n",
       "       [ 0.,  0.,  0., ...,  0., -1.,  2.]])"
      ]
     },
     "execution_count": 325,
     "metadata": {},
     "output_type": "execute_result"
    }
   ],
   "source": [
    "test2.A1"
   ]
  },
  {
   "cell_type": "code",
   "execution_count": null,
   "metadata": {},
   "outputs": [],
   "source": []
  }
 ],
 "metadata": {
  "kernelspec": {
   "display_name": "Python 3",
   "language": "python",
   "name": "python3"
  },
  "language_info": {
   "codemirror_mode": {
    "name": "ipython",
    "version": 3
   },
   "file_extension": ".py",
   "mimetype": "text/x-python",
   "name": "python",
   "nbconvert_exporter": "python",
   "pygments_lexer": "ipython3",
   "version": "3.6.4"
  }
 },
 "nbformat": 4,
 "nbformat_minor": 2
}
