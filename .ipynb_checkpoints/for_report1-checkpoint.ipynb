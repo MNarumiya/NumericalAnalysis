{
 "cells": [
  {
   "cell_type": "markdown",
   "metadata": {},
   "source": [
    "# 数値解析レポート"
   ]
  },
  {
   "cell_type": "markdown",
   "metadata": {},
   "source": [
    "## べき乗法"
   ]
  },
  {
   "cell_type": "markdown",
   "metadata": {},
   "source": [
    "インポート"
   ]
  },
  {
   "cell_type": "code",
   "execution_count": 1,
   "metadata": {},
   "outputs": [],
   "source": [
    "import numpy as np"
   ]
  },
  {
   "cell_type": "markdown",
   "metadata": {},
   "source": [
    "#### 実装"
   ]
  },
  {
   "cell_type": "code",
   "execution_count": 34,
   "metadata": {},
   "outputs": [],
   "source": [
    "def power_method(A, inital_position, rel_eps = 0.0001, max_step_num=1000):\n",
    "    \"\"\"\n",
    "    行列の固有値問題: べき乗法\n",
    "    Parameters\n",
    "    ----------\n",
    "    A : numpy array\n",
    "        Target matrix\n",
    "    inital_position : numpy array\n",
    "    rel_eps : float\n",
    "    max_step_num : int\n",
    "\n",
    "    Returns\n",
    "    -------\n",
    "    u : numpy array\n",
    "        first left eigenvector of A\n",
    "    eigen_value : float\n",
    "        first eigenvalue of A\n",
    "    \"\"\"\n",
    "    \n",
    "    rel_eps = 0.0001 # 固有値の収束条件\n",
    "    #クリロフ列生成\n",
    "\n",
    "    # 初期値代入\n",
    "    rel_delta_u=100.0\n",
    "    pre_eigen_value = 0\n",
    "    x = inital_position/np.linalg.norm(inital_position) # 正規化しておく\n",
    "    \n",
    "    for i in range(max_step_num):\n",
    "        v = np.dot(A,x)\n",
    "        eigen_value = np.dot(x, v)\n",
    "        x = v/np.linalg.norm(v) # 固有ベクトルの正規化\n",
    "        \n",
    "        if (rel_delta_u < rel_eps):\n",
    "            print(str(i+1)+\"回で収束\")\n",
    "            print(\"eigen_value=\",eigen_value)\n",
    "            v = np.dot(A,x)\n",
    "            x = v/np.linalg.norm(v) # 固有ベクトルの正規化\n",
    "            print(\"eigen_vector=\",x)\n",
    "            return eigen_value, x\n",
    "        \n",
    "        if pre_eigen_value is not None:\n",
    "            rel_delta_u = abs(eigen_value - pre_eigen_value)/abs(pre_eigen_value)\n",
    "        \n",
    "        pre_eigen_value = eigen_value\n",
    "    \n",
    "    print(str(i+1)+\"回で収束しなかった\")\n",
    "    print(\"eigen_value=\",eigen_value)\n",
    "    v = np.dot(A,x)\n",
    "    x = v/np.linalg.norm(v) # 固有ベクトルの正規化\n",
    "    print(\"eigen_vector=\",x)\n",
    "    return eigen_value, x"
   ]
  },
  {
   "cell_type": "markdown",
   "metadata": {},
   "source": [
    "### 問題設定"
   ]
  },
  {
   "cell_type": "code",
   "execution_count": 4,
   "metadata": {},
   "outputs": [],
   "source": [
    "x0 = np.array([1.0, 1.0, 1.0]); \n",
    "\n",
    "A1=np.array([[1.0, 0.0 , 0.0],[0.0, 5.0 , -1.0], [0.0, 3.0 , 0.0]])\n",
    "A2=np.array([[1.0, 0.0 , 0.0],[0.0, 0.0 , -1.0], [0.0, 3.0 , 0.0]])"
   ]
  },
  {
   "cell_type": "markdown",
   "metadata": {},
   "source": [
    "### 実行"
   ]
  },
  {
   "cell_type": "code",
   "execution_count": 24,
   "metadata": {
    "scrolled": true
   },
   "outputs": [
    {
     "name": "stdout",
     "output_type": "stream",
     "text": [
      "7回で収束\n",
      "eigen_value= 4.302773024506958\n",
      "eigen_vector= [1.77144259e-06 8.20300149e-01 5.71933269e-01]\n"
     ]
    },
    {
     "name": "stderr",
     "output_type": "stream",
     "text": [
      "/Users/m-narumiya/anaconda3/lib/python3.6/site-packages/ipykernel_launcher.py:42: RuntimeWarning: divide by zero encountered in double_scalars\n"
     ]
    }
   ],
   "source": [
    "lamda,x = power_method(A1, x0)"
   ]
  },
  {
   "cell_type": "markdown",
   "metadata": {},
   "source": [
    "### ライブラリで確認"
   ]
  },
  {
   "cell_type": "code",
   "execution_count": 58,
   "metadata": {},
   "outputs": [],
   "source": [
    "def getMaxEig(A):\n",
    "    \"\"\"絶対値最大の固有値とそれに対応する固有ベクトルを取り出す。確認用の関数\"\"\"\n",
    "    eig_val, eig_vec =np.linalg.eig(A) # 固有値・固有ベクトルをそれぞれeig_val, eig_vecに格納する\n",
    "\n",
    "    max_eig_val_index = np.argmax(abs(eig_val))\n",
    "    max_eig_val = eig_val[max_eig_val_index]\n",
    "    max_eig_vec = eig_vec[max_eig_val_index]\n",
    "\n",
    "    #計算結果の出力\n",
    "    print (\"eig_val=\", max_eig_val) \n",
    "    print(\"eig_vec=\",max_eig_vec/np.linalg.norm(max_eig_vec))"
   ]
  },
  {
   "cell_type": "code",
   "execution_count": 59,
   "metadata": {
    "scrolled": true
   },
   "outputs": [
    {
     "name": "stdout",
     "output_type": "stream",
     "text": [
      "eig_val= 4.302775637731995\n",
      "eig_vec= [-0.266022   -0.96396696  0.        ]\n"
     ]
    }
   ],
   "source": [
    "getMaxEig(A1)"
   ]
  },
  {
   "cell_type": "code",
   "execution_count": 66,
   "metadata": {},
   "outputs": [
    {
     "data": {
      "text/plain": [
       "4.302775637731995"
      ]
     },
     "execution_count": 66,
     "metadata": {},
     "output_type": "execute_result"
    }
   ],
   "source": [
    "(5+np.sqrt(13))/2"
   ]
  },
  {
   "cell_type": "markdown",
   "metadata": {},
   "source": [
    "### 次"
   ]
  },
  {
   "cell_type": "code",
   "execution_count": 60,
   "metadata": {},
   "outputs": [
    {
     "name": "stdout",
     "output_type": "stream",
     "text": [
      "1000回で収束しなかった\n",
      "eigen_value= -0.5999999999999999\n",
      "eigen_vector= [ 8.69706348e-240 -3.16227766e-001  9.48683298e-001]\n",
      "eig_val= 1.7320508075688772j\n",
      "eig_vec= [0.+0.j 0.-0.j 1.+0.j]\n"
     ]
    },
    {
     "name": "stderr",
     "output_type": "stream",
     "text": [
      "/Users/m-narumiya/anaconda3/lib/python3.6/site-packages/ipykernel_launcher.py:42: RuntimeWarning: divide by zero encountered in double_scalars\n"
     ]
    }
   ],
   "source": [
    "lamda,x = power_method(A2, x0)\n",
    "getMaxEig(A2)"
   ]
  },
  {
   "cell_type": "code",
   "execution_count": 38,
   "metadata": {},
   "outputs": [
    {
     "name": "stderr",
     "output_type": "stream",
     "text": [
      "/Users/m-narumiya/anaconda3/lib/python3.6/site-packages/ipykernel_launcher.py:42: RuntimeWarning: divide by zero encountered in double_scalars\n"
     ]
    },
    {
     "name": "stdout",
     "output_type": "stream",
     "text": [
      "100000回で収束しなかった\n",
      "eigen_value= -0.5999999999999999\n",
      "eigen_vector= [ 0.         -0.31622777  0.9486833 ]\n"
     ]
    }
   ],
   "source": [
    "lamda,x = power_method(A2, x0,rel_eps = 0.0001, max_step_num=10**5)"
   ]
  },
  {
   "cell_type": "markdown",
   "metadata": {},
   "source": [
    "$A_2$は収束しなかった  \n",
    "理由としては条件数$cond(A)=||A|| \\cdot ||A^{-1}||$が大きい可能性がある"
   ]
  },
  {
   "cell_type": "markdown",
   "metadata": {},
   "source": [
    "### 条件数の計算"
   ]
  },
  {
   "cell_type": "code",
   "execution_count": 39,
   "metadata": {},
   "outputs": [],
   "source": [
    "# import\n",
    "from numpy import linalg as LA"
   ]
  },
  {
   "cell_type": "code",
   "execution_count": 42,
   "metadata": {},
   "outputs": [],
   "source": [
    "def getCond(A):\n",
    "    A_inv = np.linalg.inv(A)\n",
    "    cond = np.linalg.norm(A,2) * np.linalg.norm(A_inv,2)\n",
    "    return cond"
   ]
  },
  {
   "cell_type": "code",
   "execution_count": 45,
   "metadata": {},
   "outputs": [
    {
     "name": "stdout",
     "output_type": "stream",
     "text": [
      "cond= 3.0\n"
     ]
    }
   ],
   "source": [
    "cond2 = getCond(A2)\n",
    "print(\"cond=\",cond2)"
   ]
  },
  {
   "cell_type": "code",
   "execution_count": 47,
   "metadata": {},
   "outputs": [
    {
     "name": "stdout",
     "output_type": "stream",
     "text": [
      "cond= 11.580313216522223\n"
     ]
    }
   ],
   "source": [
    "cond1 = getCond(A1)\n",
    "print(\"cond=\",cond1)"
   ]
  },
  {
   "cell_type": "markdown",
   "metadata": {},
   "source": [
    "関係なかった  \n",
    "条件数は制度に関してのみ影響するだけだった  \n",
    "固有値が近接してるから収束が遅い???  \n",
    "→ $\\lambda_1 = - \\lambda_2$と振動していたので収束しなかった"
   ]
  },
  {
   "cell_type": "code",
   "execution_count": 48,
   "metadata": {},
   "outputs": [
    {
     "name": "stdout",
     "output_type": "stream",
     "text": [
      "[0.+1.73205081j 0.-1.73205081j 1.+0.        j]\n"
     ]
    }
   ],
   "source": [
    "eig_val2, eig_vec2 =np.linalg.eig(A2)\n",
    "print(eig_val2)"
   ]
  },
  {
   "cell_type": "markdown",
   "metadata": {},
   "source": [
    "近接してる  \n",
    "固有値が複素数であることも理由の一つ???"
   ]
  },
  {
   "cell_type": "code",
   "execution_count": 49,
   "metadata": {},
   "outputs": [
    {
     "name": "stdout",
     "output_type": "stream",
     "text": [
      "[0.69722436 4.30277564 1.        ]\n"
     ]
    }
   ],
   "source": [
    "# ちなみにA1は\n",
    "eig_val1, eig_vec1 =np.linalg.eig(A1)\n",
    "print(eig_val1)"
   ]
  },
  {
   "cell_type": "markdown",
   "metadata": {},
   "source": [
    "固有値が互いに離れているので収束が早い"
   ]
  },
  {
   "cell_type": "code",
   "execution_count": 67,
   "metadata": {},
   "outputs": [
    {
     "name": "stdout",
     "output_type": "stream",
     "text": [
      "1000回で収束しなかった\n",
      "eigen_value= (-1.4861215932167724+0.8580127018922188j)\n",
      "eigen_vector= [-1.27340872e-241-3.17249433e-242j -2.50000000e-001+4.33012702e-001j\n",
      "  7.50000000e-001+4.33012702e-001j]\n"
     ]
    },
    {
     "name": "stderr",
     "output_type": "stream",
     "text": [
      "/Users/m-narumiya/anaconda3/lib/python3.6/site-packages/ipykernel_launcher.py:42: RuntimeWarning: divide by zero encountered in double_scalars\n"
     ]
    }
   ],
   "source": [
    "# x1 = np.array([-1.0j, -1.0j, -1.0j]); \n",
    "I = np.identity(np.shape(A2)[0])\n",
    "mu = 1.7j \n",
    "lamda,x = power_method(A2 + mu*I , x0)"
   ]
  },
  {
   "cell_type": "code",
   "execution_count": 68,
   "metadata": {},
   "outputs": [
    {
     "name": "stdout",
     "output_type": "stream",
     "text": [
      "[ 0.00000000e+00+3.43205081j -9.22709807e-17-0.03205081j\n",
      "  1.00000000e+00+1.7       j]\n"
     ]
    }
   ],
   "source": [
    "hoge, fuga=np.linalg.eig(A2 + mu*I)\n",
    "print(hoge)"
   ]
  },
  {
   "cell_type": "code",
   "execution_count": 69,
   "metadata": {},
   "outputs": [
    {
     "data": {
      "text/plain": [
       "0.574673395447663"
      ]
     },
     "execution_count": 69,
     "metadata": {},
     "output_type": "execute_result"
    }
   ],
   "source": [
    "LA.norm(1+1.7j)/LA.norm(3.43205081j)"
   ]
  },
  {
   "cell_type": "code",
   "execution_count": 64,
   "metadata": {},
   "outputs": [
    {
     "data": {
      "text/plain": [
       "0.2324081206334988"
      ]
     },
     "execution_count": 64,
     "metadata": {},
     "output_type": "execute_result"
    }
   ],
   "source": [
    "LA.norm(1)/LA.norm(4.30277564)"
   ]
  },
  {
   "cell_type": "markdown",
   "metadata": {},
   "source": [
    "## CG法(共役勾配法)"
   ]
  },
  {
   "cell_type": "code",
   "execution_count": 178,
   "metadata": {},
   "outputs": [],
   "source": [
    "def cgMethod(A, b, initial_point=None, max_step=100, eps=10**(-8)):\n",
    "    \"\"\"共役勾配法で連立線形方程式をとく\n",
    "    ---Input---\n",
    "    A : np.array.n*nの係数行列.\n",
    "    b : np.array. n*1の縦ベクトル.\n",
    "    initial_point : np.array. 初期値.\n",
    "    max_step : int.最大のステップ回数.\n",
    "    eps : float. 収束判定に使う.\n",
    "    \n",
    "    ---return---\n",
    "    x : np.array. 答えとなるベクトル.\n",
    "    \"\"\"\n",
    "    \n",
    "    if (initial_point is None):\n",
    "        initial_point = np.zeros([np.shape(b)[0], 1])\n",
    "    \n",
    "    x = initial_point\n",
    "    p = r = b - np.dot(A, x)\n",
    "    \n",
    "    for i in range(max_step):\n",
    "        times_A_and_p = np.dot(A, p)\n",
    "        work = np.dot(p.T, times_A_and_p)\n",
    "        alpha = np.dot(p.T, r)/work\n",
    "        x += alpha*p\n",
    "        r -=  alpha*times_A_and_p\n",
    "        \n",
    "        # 収束判定 : 残渣がepsを下回れば停止\n",
    "        if (np.linalg.norm(r) < eps):\n",
    "            print(i+1,\"回で収束\")\n",
    "            break\n",
    "        \n",
    "        # 収束しなかったら更新\n",
    "        else:\n",
    "            beta = - np.dot(r.T, times_A_and_p)/work\n",
    "            p = r + beta*p\n",
    "    \n",
    "    print(\"x=\",x)\n",
    "    return x"
   ]
  },
  {
   "cell_type": "markdown",
   "metadata": {},
   "source": [
    "### 問題設定"
   ]
  },
  {
   "cell_type": "code",
   "execution_count": 91,
   "metadata": {},
   "outputs": [],
   "source": [
    "def setAmat(size_N, c):\n",
    "    \"\"\"\n",
    "    size_N*size_Nで対角成分がc、その前後のみ-1の行列Aを返す。\n",
    "    \"\"\"\n",
    "    tmp = np.triu(-np.ones([size_N, size_N]), 1) - np.triu(-np.ones([size_N, size_N]), 2)\n",
    "    \n",
    "    return c*np.identity(size_N) + tmp + tmp.T"
   ]
  },
  {
   "cell_type": "markdown",
   "metadata": {},
   "source": [
    "### 値を与えて解いてみる"
   ]
  },
  {
   "cell_type": "code",
   "execution_count": 199,
   "metadata": {},
   "outputs": [],
   "source": [
    "def solveQuestionCG(N):\n",
    "    \"\"\"連立一次方程式をCG法で問題をとく。\n",
    "    ---return---\n",
    "    b : 方程式に使ったベクトル\n",
    "    x1 : c=2のときの解\n",
    "    x2 : c=20のときの解\n",
    "    \"\"\"\n",
    "    A1 = setAmat(N, 2)\n",
    "    A2 = setAmat(N, 20)\n",
    "    b = np.random.randint(1, 9, (N, 1)) \n",
    "    print(\"b=\", b)\n",
    "    \n",
    "    print(\"c=2のとき\")\n",
    "    x1 = cgMethod(A1, b)\n",
    "    print(\"ライブラリの解=\",np.linalg.solve(A1, b))\n",
    "    \n",
    "    print(\"c=20のとき\")\n",
    "    x2 = cgMethod(A2, b)\n",
    "    print(\"ライブラリの解=\",np.linalg.solve(A2, b))\n",
    "    \n",
    "    return b, x1, x2"
   ]
  },
  {
   "cell_type": "code",
   "execution_count": 179,
   "metadata": {},
   "outputs": [
    {
     "name": "stdout",
     "output_type": "stream",
     "text": [
      "b= [[3]\n",
      " [4]\n",
      " [6]\n",
      " [6]]\n",
      "c=2のとき\n",
      "5 回で収束\n",
      "x= [[ 8.4]\n",
      " [13.8]\n",
      " [15.2]\n",
      " [10.6]]\n",
      "[[ 8.4]\n",
      " [13.8]\n",
      " [15.2]\n",
      " [10.6]]\n",
      "c=20のとき\n",
      "5 回で収束\n",
      "x= [[0.16122065]\n",
      " [0.22441294]\n",
      " [0.32703824]\n",
      " [0.31635191]]\n",
      "[[0.16122065]\n",
      " [0.22441294]\n",
      " [0.32703824]\n",
      " [0.31635191]]\n"
     ]
    }
   ],
   "source": [
    "b1, x1, x2 = solveQuestionCG(4)"
   ]
  },
  {
   "cell_type": "code",
   "execution_count": 181,
   "metadata": {
    "scrolled": false
   },
   "outputs": [
    {
     "name": "stdout",
     "output_type": "stream",
     "text": [
      "b= [[4]\n",
      " [4]\n",
      " [2]\n",
      " [7]\n",
      " [7]\n",
      " [3]\n",
      " [5]\n",
      " [2]\n",
      " [4]\n",
      " [7]\n",
      " [8]\n",
      " [8]\n",
      " [5]\n",
      " [5]\n",
      " [3]\n",
      " [1]\n",
      " [4]\n",
      " [5]\n",
      " [8]\n",
      " [1]\n",
      " [2]\n",
      " [5]\n",
      " [1]\n",
      " [2]\n",
      " [6]\n",
      " [5]\n",
      " [8]\n",
      " [3]\n",
      " [6]\n",
      " [4]\n",
      " [4]\n",
      " [4]]\n",
      "c=2のとき\n",
      "33 回で収束\n",
      "x= [[ 72.84848485]\n",
      " [141.6969697 ]\n",
      " [206.54545455]\n",
      " [269.39393939]\n",
      " [325.24242424]\n",
      " [374.09090909]\n",
      " [419.93939394]\n",
      " [460.78787879]\n",
      " [499.63636364]\n",
      " [534.48484848]\n",
      " [562.33333333]\n",
      " [582.18181818]\n",
      " [594.03030303]\n",
      " [600.87878788]\n",
      " [602.72727273]\n",
      " [601.57575758]\n",
      " [599.42424242]\n",
      " [593.27272727]\n",
      " [582.12121212]\n",
      " [562.96969697]\n",
      " [542.81818182]\n",
      " [520.66666667]\n",
      " [493.51515152]\n",
      " [465.36363636]\n",
      " [435.21212121]\n",
      " [399.06060606]\n",
      " [357.90909091]\n",
      " [308.75757576]\n",
      " [256.60606061]\n",
      " [198.45454545]\n",
      " [136.3030303 ]\n",
      " [ 70.15151515]]\n",
      "[[ 72.84848485]\n",
      " [141.6969697 ]\n",
      " [206.54545455]\n",
      " [269.39393939]\n",
      " [325.24242424]\n",
      " [374.09090909]\n",
      " [419.93939394]\n",
      " [460.78787879]\n",
      " [499.63636364]\n",
      " [534.48484848]\n",
      " [562.33333333]\n",
      " [582.18181818]\n",
      " [594.03030303]\n",
      " [600.87878788]\n",
      " [602.72727273]\n",
      " [601.57575758]\n",
      " [599.42424242]\n",
      " [593.27272727]\n",
      " [582.12121212]\n",
      " [562.96969697]\n",
      " [542.81818182]\n",
      " [520.66666667]\n",
      " [493.51515152]\n",
      " [465.36363636]\n",
      " [435.21212121]\n",
      " [399.06060606]\n",
      " [357.90909091]\n",
      " [308.75757576]\n",
      " [256.60606061]\n",
      " [198.45454545]\n",
      " [136.3030303 ]\n",
      " [ 70.15151515]]\n",
      "c=20のとき\n",
      "8 回で収束\n",
      "x= [[0.21085118]\n",
      " [0.21702355]\n",
      " [0.12961992]\n",
      " [0.37537483]\n",
      " [0.37787677]\n",
      " [0.18216058]\n",
      " [0.26533485]\n",
      " [0.12453638]\n",
      " [0.22539276]\n",
      " [0.38331874]\n",
      " [0.44098201]\n",
      " [0.43632147]\n",
      " [0.28544742]\n",
      " [0.27262702]\n",
      " [0.16709296]\n",
      " [0.06923216]\n",
      " [0.2175503 ]\n",
      " [0.28177379]\n",
      " [0.41792551]\n",
      " [0.07673633]\n",
      " [0.11680116]\n",
      " [0.25928693]\n",
      " [0.06893752]\n",
      " [0.11946354]\n",
      " [0.32033331]\n",
      " [0.28720273]\n",
      " [0.42372123]\n",
      " [0.18722195]\n",
      " [0.32071767]\n",
      " [0.22713145]\n",
      " [0.22191135]\n",
      " [0.21109557]]\n",
      "[[0.21085118]\n",
      " [0.21702355]\n",
      " [0.12961992]\n",
      " [0.37537483]\n",
      " [0.37787677]\n",
      " [0.18216058]\n",
      " [0.26533485]\n",
      " [0.12453638]\n",
      " [0.22539276]\n",
      " [0.38331874]\n",
      " [0.44098201]\n",
      " [0.43632147]\n",
      " [0.28544742]\n",
      " [0.27262702]\n",
      " [0.16709296]\n",
      " [0.06923216]\n",
      " [0.2175503 ]\n",
      " [0.28177379]\n",
      " [0.41792551]\n",
      " [0.07673633]\n",
      " [0.11680116]\n",
      " [0.25928693]\n",
      " [0.06893752]\n",
      " [0.11946354]\n",
      " [0.32033331]\n",
      " [0.28720273]\n",
      " [0.42372123]\n",
      " [0.18722195]\n",
      " [0.32071767]\n",
      " [0.22713145]\n",
      " [0.22191135]\n",
      " [0.21109557]]\n"
     ]
    }
   ],
   "source": [
    "b2, x1, x2 = solveQuestionCG(2**5)"
   ]
  },
  {
   "cell_type": "markdown",
   "metadata": {},
   "source": [
    "## 共役勾配法以外の連立一次方程式の反復解法"
   ]
  },
  {
   "cell_type": "code",
   "execution_count": 194,
   "metadata": {},
   "outputs": [],
   "source": [
    "def jacobi(A, b, eps=10*(-8), max_step=100):\n",
    "    \"\"\"線形連立方程式をヤコビ法で解く\n",
    "    ---return---\n",
    "    b : 方程式に使ったベクトル\n",
    "    x1 : c=2のときの解\n",
    "    x2 : c=20のときの解\n",
    "    \"\"\"\n",
    "    \n",
    "    x_old = np.empty_like(b)\n",
    "    error = 1e12\n",
    "\n",
    "    dig_array = np.diag(A)\n",
    "    D = np.diagflat(dig_array)\n",
    "    D_inv = np.diagflat(1/dig_array)\n",
    "    R = A - D\n",
    "    \n",
    "    for i in range(max_step):\n",
    "        x = (b-np.dot(R, x_old))/dig_array\n",
    "        error = np.linalg.norm(x-x_old)/np.linalg.norm(x)\n",
    "        \n",
    "        # 収束判定\n",
    "        if (error < eps):\n",
    "            print(i+1,\"回で収束\")\n",
    "            break\n",
    "        \n",
    "        else:\n",
    "            x_old = x\n",
    "    \n",
    "    print(\"x=\",x)\n",
    "    return x"
   ]
  },
  {
   "cell_type": "code",
   "execution_count": 197,
   "metadata": {},
   "outputs": [
    {
     "name": "stdout",
     "output_type": "stream",
     "text": [
      "x= [[2.07567594e+09 2.07567594e+09 2.07567594e+09 2.07567594e+09]\n",
      " [3.35712854e+09 3.35712854e+09 3.35712854e+09 3.35712854e+09]\n",
      " [3.35851422e+09 3.35851422e+09 3.35851422e+09 3.35851422e+09]\n",
      " [2.07481954e+09 2.07481954e+09 2.07481954e+09 2.07481954e+09]]\n"
     ]
    }
   ],
   "source": [
    "test = jacobi(setAmat(4, 2), np.array([[3],[4],[6],[6]]))"
   ]
  },
  {
   "cell_type": "code",
   "execution_count": 192,
   "metadata": {},
   "outputs": [
    {
     "name": "stdout",
     "output_type": "stream",
     "text": [
      "[[6 6 3 4 7]\n",
      " [8 6 2 5 7]\n",
      " [6 4 8 8 3]\n",
      " [6 8 6 3 7]\n",
      " [8 7 3 7 1]]\n",
      "[[1.5        1.5        1.         0.66666667 0.875     ]\n",
      " [2.         1.5        0.66666667 0.83333333 0.875     ]\n",
      " [1.5        1.         2.66666667 1.33333333 0.375     ]\n",
      " [1.5        2.         2.         0.5        0.875     ]\n",
      " [2.         1.75       1.         1.16666667 0.125     ]]\n"
     ]
    }
   ],
   "source": [
    "fuga = np.diag(hoge)\n",
    "hogehoge = np.random.randint(1, 9, (5, 5)) \n",
    "print(hogehoge)\n",
    "print(hogehoge/np.diag(hoge))"
   ]
  },
  {
   "cell_type": "code",
   "execution_count": null,
   "metadata": {},
   "outputs": [],
   "source": []
  }
 ],
 "metadata": {
  "kernelspec": {
   "display_name": "Python 3",
   "language": "python",
   "name": "python3"
  },
  "language_info": {
   "codemirror_mode": {
    "name": "ipython",
    "version": 3
   },
   "file_extension": ".py",
   "mimetype": "text/x-python",
   "name": "python",
   "nbconvert_exporter": "python",
   "pygments_lexer": "ipython3",
   "version": "3.6.4"
  }
 },
 "nbformat": 4,
 "nbformat_minor": 2
}
